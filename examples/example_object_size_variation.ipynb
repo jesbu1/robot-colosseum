{
 "cells": [
  {
   "cell_type": "markdown",
   "metadata": {
    "tags": []
   },
   "source": [
    "# Examples for `ObjectSizeVariation`\n",
    "In this notebook we show how to use the [ObjectSizeVariation][1] class from\n",
    "the `colosseum.variations.object_size` module. **This variation is used to\n",
    "change the size of objects in the simulation**\n",
    "\n",
    "![gh-object-size-var][0]\n",
    "\n",
    "*Object-size variation applied to the blocks in this simulation*\n",
    "\n",
    "[0]: <https://media.giphy.com/media/v1.Y2lkPTc5MGI3NjExa296cmcyemEwNXRjM3BqdTgzN3c4d3Qzbjh0ZjAxNnA0a2JnMnZ4aiZlcD12MV9pbnRlcm5hbF9naWZfYnlfaWQmY3Q9Zw/PHWd9OafhuAkXa1jkq/giphy.gif> (gif-object-size-var)\n",
    "[1]: <https://github.com/robot-colosseum/robot-colosseum/blob/4eeff175bd14cd9c83159363839e0a2a0ba3f689/colosseum/variations/object_size.py#L11> (gh-object-size-var-file)"
   ]
  },
  {
   "cell_type": "markdown",
   "metadata": {
    "tags": []
   },
   "source": [
    "## 0. Setup the simulation\n",
    "Let's first load the base scene and a model from one of the tasks in `rlbench`"
   ]
  },
  {
   "cell_type": "code",
   "execution_count": 1,
   "metadata": {},
   "outputs": [],
   "source": [
    "import os\n",
    "from pyrep import PyRep\n",
    "from rlbench.environment import DIR_PATH\n",
    "from rlbench.backend.const import TTT_FILE\n",
    "from colosseum.variations.object_size import ObjectSizeVariation\n",
    "\n",
    "RLBENCH_TASK_TTM_FOLDER = os.path.join(DIR_PATH, \"task_ttms\")"
   ]
  },
  {
   "cell_type": "code",
   "execution_count": 2,
   "metadata": {},
   "outputs": [],
   "source": [
    "pr = PyRep()\n",
    "scene_file = os.path.join(DIR_PATH, TTT_FILE)\n",
    "pr.launch(scene_file, responsive_ui=True, headless=False)\n",
    "\n",
    "task_model_path = os.path.join(\n",
    "    RLBENCH_TASK_TTM_FOLDER, \"lift_numbered_block.ttm\"\n",
    ")\n",
    "task_base_obj = pr.import_model(task_model_path)"
   ]
  },
  {
   "cell_type": "markdown",
   "metadata": {},
   "source": [
    "## 1. The `ObjectSizeVariation` class\n",
    "\n",
    "Below we show the signature of the `ObjectSizeVariation` class, from the\n",
    "[`object_size`][0] file in our repo.\n",
    "\n",
    "```python\n",
    "class ObjectSizeVariation(IVariation):\n",
    "    def __init__(\n",
    "        self,\n",
    "        pyrep: PyRep,\n",
    "        name: Optional[str],\n",
    "        targets_names: List[str],\n",
    "        scale_range: List[float] = [],\n",
    "        scale_list: List[float] = [],\n",
    "        scale_same: bool = False,\n",
    "        seed: Optional[int] = None,\n",
    "    ):\n",
    "        # Implementation ...\n",
    "        ...\n",
    "\n",
    "    def randomize(self) -> None:\n",
    "        # Implementation ...\n",
    "        ...\n",
    "```\n",
    "\n",
    "The first three options are required, and are similar to the ones from the\n",
    "`ObjectColorVariation`. These consist of the following:\n",
    "\n",
    "- `pyrep` : a handle to the instance of coppeliasim currently running.\n",
    "- `name`: a descriptive name for the variation, to later differentiate it from \n",
    "other variations (as a filter).\n",
    "- `targets_names`: a list of the names of the objects that we want to associate\n",
    "with this variation. To obtain these just open CoppeliaSim and search for the\n",
    "names of the objects you want to control using this variation.\n",
    "\n",
    "e.g.\n",
    "\n",
    "```python\n",
    "target_names = [\"box_base\"]\n",
    "```\n",
    "\n",
    "The last four options are not required, but can be used by the user for further\n",
    "configuration; if not, the variation will use some appropriate defaults. These\n",
    "options consist of the following:\n",
    "\n",
    "- `scale_range`: a list of two scale values, consisting of a min. and a max.\n",
    "value from which to sample the desired scale. If not given, the default range of\n",
    "`[0.0, 1.0]` is used for sampling instead.\n",
    "\n",
    "e.g.\n",
    "```python\n",
    "scale_range = [0.75, 1.25]\n",
    "```\n",
    "\n",
    "- `scale_list`: a list of scale values to select from when sampling the desired\n",
    "size. This is used if `scale_range` was not defined. If neither is given, the\n",
    "default range `[0.0, 1.0]` is used for sampling instead.\n",
    "\n",
    "e.g.\n",
    "```python\n",
    "scale_list = [0.25, 0.5, 0.75, 1.0, 1.25, 1.5, 1.75, 2.0]\n",
    "```\n",
    "\n",
    "- `scale_same`: This argument selects whether or not the behavior is to use the\n",
    "same scale for all managed shapes given by `target_names`.\n",
    "\n",
    "e.g.\n",
    "```python\n",
    "scale_same = True\n",
    "```\n",
    "\n",
    "- `seed`: This is a number used as seed for the internal random number generator\n",
    "created for this variation.\n",
    "\n",
    "e.g.\n",
    "```python\n",
    "seed = 42\n",
    "```\n",
    "\n",
    "Finally, once an object of this variation class has been created, we can use the\n",
    "`randomize` method to apply the random scale according to our settings.\n",
    "\n",
    "[0]: <https://github.com/robot-colosseum/robot-colosseum/blob/4eeff175bd14cd9c83159363839e0a2a0ba3f689/colosseum/variations/object_size.py#L1> (gh-obj-size-var-file)"
   ]
  },
  {
   "cell_type": "markdown",
   "metadata": {},
   "source": [
    "## 2. Using the `ObjectSizeVariation` class\n",
    "Next, we will show how to use the class, using the configurations that were\n",
    "shown in the previous section"
   ]
  },
  {
   "cell_type": "markdown",
   "metadata": {
    "tags": []
   },
   "source": [
    "### 2.1. Setup variation using default configuration\n",
    "![gif-object-size-cariation-part-1][0]\n",
    "\n",
    "The default configuration requires only the first three arguments, so be careful\n",
    "of setting the right `target_names` for the shapes you'd like to change scale\n",
    "during the simulation. Recall that the scales are going to be sampled uniformly\n",
    "from the default range `[0.0, 1.0]`\n",
    "\n",
    "\n",
    "[0]: <https://media.giphy.com/media/v1.Y2lkPTc5MGI3NjExa296cmcyemEwNXRjM3BqdTgzN3c4d3Qzbjh0ZjAxNnA0a2JnMnZ4aiZlcD12MV9pbnRlcm5hbF9naWZfYnlfaWQmY3Q9Zw/PHWd9OafhuAkXa1jkq/giphy.gif> (gif-object-size-var-1)"
   ]
  },
  {
   "cell_type": "code",
   "execution_count": 3,
   "metadata": {},
   "outputs": [],
   "source": [
    "object_size_var = ObjectSizeVariation(\n",
    "    pr, \"obj_size_var_1\", [\"block1\", \"block2\", \"block3\"]\n",
    ")"
   ]
  },
  {
   "cell_type": "code",
   "execution_count": 17,
   "metadata": {},
   "outputs": [],
   "source": [
    "object_size_var.randomize()"
   ]
  },
  {
   "cell_type": "markdown",
   "metadata": {
    "tags": []
   },
   "source": [
    "### 2.2 Setup variation using `scale_range`\n",
    "![gif-object-size-variation-4][0]\n",
    "\n",
    "The sixth argument `scale_range` accepts a tuple of low and high scale values that we can sample uniformly from. The gif above shows sampling from a scale range as described in the cell below (smallish).\n",
    "\n",
    "[0]: <https://media.giphy.com/media/v1.Y2lkPTc5MGI3NjExZTZvcHN6OW03MXo1NHl2MmZlbnJmMXdnZmIxOWYwYWpoZWkxeWptbyZlcD12MV9pbnRlcm5hbF9naWZfYnlfaWQmY3Q9Zw/aP4BfMDqcUAhIO92Fg/giphy.gif> (gif-object-size-var-4)"
   ]
  },
  {
   "cell_type": "code",
   "execution_count": 57,
   "metadata": {},
   "outputs": [],
   "source": [
    "targets_names = [\"block1\", \"block2\", \"block3\"]\n",
    "scale_range = [0.25, 0.75]\n",
    "object_size_var = ObjectSizeVariation(\n",
    "    pr, \"obj_size_var_2\", targets_names, scale_range=scale_range\n",
    ")"
   ]
  },
  {
   "cell_type": "code",
   "execution_count": 87,
   "metadata": {},
   "outputs": [],
   "source": [
    "object_size_var.randomize()"
   ]
  },
  {
   "cell_type": "markdown",
   "metadata": {
    "tags": []
   },
   "source": [
    "### 2.3 Setup variation using `scale_list`\n",
    "![gif-object-size-variation-3][0]\n",
    "\n",
    "Alternatively, if `scale_range` is not given, we can provide a `scale_list`. In\n",
    "the example below we select `[1.1, 2.1, 3.1]` as a list of scales.\n",
    "\n",
    "[0]: <https://media.giphy.com/media/v1.Y2lkPTc5MGI3NjExa20wbnE0em1xajc0bmQ4cjhiZ3NtYmkweG5udXY5ODIwc2k1c2JsdCZlcD12MV9pbnRlcm5hbF9naWZfYnlfaWQmY3Q9Zw/AW4bknlJOfh9PPBfhv/giphy.gif> (gif-obj-size-var-3)"
   ]
  },
  {
   "cell_type": "code",
   "execution_count": 88,
   "metadata": {},
   "outputs": [],
   "source": [
    "targets_names = [\"block1\", \"block2\", \"block3\"]\n",
    "scale_list = [1.1, 2.1, 3.1]\n",
    "object_size_var = ObjectSizeVariation(\n",
    "    pr, \"obj_size_var_3\", targets_names, scale_list=scale_list\n",
    ")"
   ]
  },
  {
   "cell_type": "code",
   "execution_count": 134,
   "metadata": {},
   "outputs": [],
   "source": [
    "object_size_var.randomize()"
   ]
  },
  {
   "cell_type": "markdown",
   "metadata": {},
   "source": [
    "### 2.4 Using the `scale_same` parameter\n",
    "We can use the `scale_same` parameter to hint the variation to use the same\n",
    "scale value for all associated targets. Notice however that the initial scales\n",
    "are not preserved, as every time we create a new variation, the associated shape\n",
    "extensions used internally assumme that the object has scale 1.0"
   ]
  },
  {
   "cell_type": "code",
   "execution_count": 135,
   "metadata": {},
   "outputs": [],
   "source": [
    "targets_names = [\"block1\", \"block2\", \"block3\"]\n",
    "object_size_var = ObjectSizeVariation(\n",
    "    pr, \"obj_size_var_4\", targets_names, scale_same=True\n",
    ")"
   ]
  },
  {
   "cell_type": "code",
   "execution_count": 182,
   "metadata": {},
   "outputs": [],
   "source": [
    "object_size_var.randomize()"
   ]
  },
  {
   "cell_type": "code",
   "execution_count": 183,
   "metadata": {},
   "outputs": [
    {
     "name": "stdout",
     "output_type": "stream",
     "text": [
      "[CoppeliaSim:loadinfo]   done.\n"
     ]
    }
   ],
   "source": [
    "pr.stop()\n",
    "pr.shutdown()"
   ]
  }
 ],
 "metadata": {
  "kernelspec": {
   "display_name": "Python 3 (ipykernel)",
   "language": "python",
   "name": "python3"
  },
  "language_info": {
   "codemirror_mode": {
    "name": "ipython",
    "version": 3
   },
   "file_extension": ".py",
   "mimetype": "text/x-python",
   "name": "python",
   "nbconvert_exporter": "python",
   "pygments_lexer": "ipython3",
   "version": "3.11.7"
  }
 },
 "nbformat": 4,
 "nbformat_minor": 4
}
