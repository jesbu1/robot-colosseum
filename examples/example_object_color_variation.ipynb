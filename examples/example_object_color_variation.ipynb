{
 "cells": [
  {
   "cell_type": "markdown",
   "metadata": {
    "tags": []
   },
   "source": [
    "# Examples for `ObjectColorVariation`\n",
    "In this notebook we show how to use the [ObjectColorVariation][0] class from the\n",
    "`rlbench_ext.variations` module. **This variation is used for controlling the\n",
    "colors of visual elements in the simulation.**\n",
    "\n",
    "![gif-object-color-variation][1]\n",
    "\n",
    "*Object-color variation applied to the blocks in this simulation*\n",
    "\n",
    "[0]: <https://github.com/wpumacay/rlbench_ext/blob/d4bca14cfd2b74f3cd0a7d467604f01493c6ab01/rlbench_ext/variations/object_color.py#L1> (obj-color-var-file)\n",
    "[1]: <https://media.giphy.com/media/v1.Y2lkPTc5MGI3NjExazFndHlpcmxmbjhoY29zN3lwanp0bHRrOXMyYnIxZGVlMjg3dG02YSZlcD12MV9pbnRlcm5hbF9naWZfYnlfaWQmY3Q9Zw/JYh45Wtw5GAdqihMi9/giphy.gif> (gif-object-color-variation-1)"
   ]
  },
  {
   "cell_type": "markdown",
   "metadata": {
    "tags": []
   },
   "source": [
    "## 0. Setup the simulation\n",
    "Let's first load the base scene and a model from one of the tasks in `rlbench`"
   ]
  },
  {
   "cell_type": "code",
   "execution_count": 1,
   "metadata": {},
   "outputs": [],
   "source": [
    "import os\n",
    "import numpy as np\n",
    "from pyrep import PyRep\n",
    "from rlbench.environment import DIR_PATH\n",
    "from rlbench.backend.const import TTT_FILE\n",
    "from colosseum.variations.object_color import ObjectColorVariation\n",
    "\n",
    "RLBENCH_TASK_TTM_FOLDER = os.path.join(DIR_PATH, \"task_ttms\")"
   ]
  },
  {
   "cell_type": "code",
   "execution_count": 2,
   "metadata": {},
   "outputs": [],
   "source": [
    "pr = PyRep()\n",
    "scene_file = os.path.join(DIR_PATH, TTT_FILE)\n",
    "pr.launch(scene_file, responsive_ui=True, headless=False)\n",
    "\n",
    "task_model_path = os.path.join(\n",
    "    RLBENCH_TASK_TTM_FOLDER, \"lift_numbered_block.ttm\"\n",
    ")\n",
    "task_base_obj = pr.import_model(task_model_path)"
   ]
  },
  {
   "cell_type": "markdown",
   "metadata": {},
   "source": [
    "## 1. The `ObjectColorVariation` class\n",
    "\n",
    "Below we show the signature of the `ObjectColorVariation` class, from the\n",
    "[`object_color.py`][0] file in our repo.\n",
    "\n",
    "```python\n",
    "class ObjectColorVariation(IVariation):\n",
    "    def __init__(\n",
    "        self,\n",
    "        pyrep: PyRep,\n",
    "        name: Optional[str],\n",
    "        targets_names: List[str],\n",
    "        color_names: List[str] = [],\n",
    "        color_list: List[NDArray] = [],\n",
    "        color_range: List[NDArray] = [],\n",
    "    ):\n",
    "        # Implementation ...\n",
    "        ...\n",
    "    \n",
    "    def randomize(self) -> None:\n",
    "        # Implementation ...\n",
    "        ...\n",
    "```\n",
    "\n",
    "The first three options are required, and consist of the following:\n",
    "\n",
    "- `pyrep` : a handle to the instance of coppeliasim currently running.\n",
    "- `name`: a descriptive name for the variation, to later differentiate it from \n",
    "other variations (as a filter).\n",
    "- `targets_names`: a list of the names of the objects that we want to associate\n",
    "with this variation. To obtain these just open the editor and search for the\n",
    "names of the objects you want to control using this variation.\n",
    "\n",
    "e.g.\n",
    "\n",
    "```python\n",
    "target_names = [\"block1\", \"block2\", \"block3\"]\n",
    "```\n",
    "![img-obects-in-the-scene][2]\n",
    "\n",
    "The last three options are not required, but can be used by the user for further\n",
    "configuration; if not, the variation will use some appropriate defaults. These\n",
    "options consist of the following:\n",
    "\n",
    "- `color_names`: a list of color names to sample from. These names should be chosen\n",
    "from the list already defined in the default colors library, [here][1]. If not\n",
    "given, the defaults are all the names listed in the colors library.\n",
    "\n",
    "e.g.\n",
    "```python\n",
    "color_names = [\"red\", \"green\", \"blue\"]\n",
    "```\n",
    "\n",
    "- `color_list`: a list of tuples representing RGB tuples, in the range of 0 to 1,\n",
    "one for each color. If not given, the variation will fall back to use the color\n",
    "names if given, and the defaults if the `color_names` parameter wasn't given.\n",
    "\n",
    "e.g.\n",
    "```python\n",
    "color_list = [(1.0, 0.0, 0.0), (0.0, 1.0, 0.0), (0.0, 0.0, 1.0)]\n",
    "```\n",
    "\n",
    "- `color_range`: a list of two color values, consisting of min. / max. ranges\n",
    "given as RGB tuples. If not given, the variation will fall back to `color_list`;\n",
    "if this is not given either, fall back to `color_names`; if not given, will fall\n",
    "back to the default colors library.\n",
    "\n",
    "e.g.\n",
    "```python\n",
    "color_range = [(0.2, 0.2, 0.2), (0.8, 0.8, 0.8)]\n",
    "```\n",
    "\n",
    "Finally, once an object of this variation class has been created, we can use the\n",
    "`randomize` method to apply the random color according to our settings.\n",
    "\n",
    "[0]: <https://github.com/wpumacay/rlbench_ext/blob/d4bca14cfd2b74f3cd0a7d467604f01493c6ab01/rlbench_ext/variations/object_color.py#L1> (object-color-variation-file)\n",
    "[1]: <https://github.com/wpumacay/rlbench_ext/blob/d4bca14cfd2b74f3cd0a7d467604f01493c6ab01/rlbench_ext/variations/const.py#L1> (colors-library)\n",
    "[2]: <https://github.com/wpumacay/wpumacay.github.io/assets/26859929/10c7b7c5-ff50-4998-8dd5-8e48737a4fe0> (gh-obj-color-var-names)"
   ]
  },
  {
   "cell_type": "markdown",
   "metadata": {},
   "source": [
    "## 2. Using the `ObjectColorVariation` class\n",
    "Next, we will show how to use the class, using the configurations that were shown\n",
    "in the previous section."
   ]
  },
  {
   "cell_type": "markdown",
   "metadata": {
    "tags": []
   },
   "source": [
    "### 2.1 Setup variation using default configuration\n",
    "\n",
    "The default configuration requires only the first three arguments, so be careful\n",
    "of setting the right `targets_names` for the shapes you'd like to change color\n",
    "during the simulation.\n",
    "\n",
    "Recall that the colors are going to be sampled from the default list of colors\n",
    "in the color library [here][0].\n",
    "\n",
    "[0]: <https://github.com/wpumacay/rlbench_ext/blob/d4bca14cfd2b74f3cd0a7d467604f01493c6ab01/rlbench_ext/variations/const.py#L1> (colors-library-file)"
   ]
  },
  {
   "cell_type": "code",
   "execution_count": 3,
   "metadata": {},
   "outputs": [],
   "source": [
    "object_color_var = ObjectColorVariation(\n",
    "    pr, \"obj_color_var_1\", [\"block1\", \"block2\", \"block3\"]\n",
    ")"
   ]
  },
  {
   "cell_type": "markdown",
   "metadata": {},
   "source": [
    "Call the `randomize` method to apply random colors to the specified shapes."
   ]
  },
  {
   "cell_type": "code",
   "execution_count": 10,
   "metadata": {},
   "outputs": [],
   "source": [
    "object_color_var.randomize()"
   ]
  },
  {
   "cell_type": "markdown",
   "metadata": {
    "tags": []
   },
   "source": [
    "### 2.2 Setup variation using `color_names`\n",
    "![gif-object-color-variation-2][0]\n",
    "\n",
    "We can specify `color_names` as keyword argument to select which colors we can\n",
    "sample from. Recall that these color names should be selected from the default\n",
    "colors library [here][1]\n",
    "\n",
    "[0]: <https://media.giphy.com/media/v1.Y2lkPTc5MGI3NjExZHZzZG40eWUzMm10bjFkYW84anllcTQzOW16NG4yeHJsZWE4MzFwYSZlcD12MV9pbnRlcm5hbF9naWZfYnlfaWQmY3Q9Zw/b9NYXAWKXOATgPQhgT/giphy.gif> (gif-object-color-variation-2)\n",
    "[1]: <https://github.com/wpumacay/rlbench_ext/blob/d4bca14cfd2b74f3cd0a7d467604f01493c6ab01/rlbench_ext/variations/const.py#L1> (colors-library-file)"
   ]
  },
  {
   "cell_type": "code",
   "execution_count": 11,
   "metadata": {},
   "outputs": [],
   "source": [
    "# Create a new color variation to handle only block1 and block2\n",
    "targets_names = [\"block1\", \"block2\"]\n",
    "color_names = [\"red\", \"green\", \"blue\", \"cyan\", \"magenta\", \"yellow\"]\n",
    "object_color_var = ObjectColorVariation(\n",
    "    pr, \"obj_color_var_2\", targets_names, color_names=color_names\n",
    ")"
   ]
  },
  {
   "cell_type": "code",
   "execution_count": 29,
   "metadata": {},
   "outputs": [],
   "source": [
    "object_color_var.randomize()"
   ]
  },
  {
   "cell_type": "markdown",
   "metadata": {
    "tags": []
   },
   "source": [
    "### 2.3 Setup variation using `color_list`\n",
    "![gif-color-variation-3][0]\n",
    "\n",
    "Alternatively, if `color_names` is not given, we can provide a `color_list`. In\n",
    "the example below we select `[Red, Green, Blue, Cyan, Magenta, Yellow]`, where\n",
    "the colors are given as RGB triplets.\n",
    "\n",
    "[0]: <https://media.giphy.com/media/v1.Y2lkPTc5MGI3NjExdDh3ZTVkb2liZTVmcDB2ODRsOWg2cjEyODQ3bnJuOW0ybjBoYWk1MSZlcD12MV9pbnRlcm5hbF9naWZfYnlfaWQmY3Q9Zw/9FuwoQI4NUOFQG9wTC/giphy.gif> (git-color-variation-3)"
   ]
  },
  {
   "cell_type": "code",
   "execution_count": 30,
   "metadata": {},
   "outputs": [],
   "source": [
    "targets_names = [\"block1\", \"block2\", \"block3\"]\n",
    "color_list = [\n",
    "    np.array([1.0, 0.0, 0.0]),  # Red\n",
    "    np.array([0.0, 1.0, 0.0]),  # Green\n",
    "    np.array([0.0, 0.0, 1.0]),  # Blue\n",
    "    np.array([1.0, 1.0, 0.0]),  # Yellow\n",
    "    np.array([0.0, 1.0, 1.0]),  # Cyan\n",
    "    np.array([1.0, 0.0, 1.0]),  # Magenta\n",
    "]\n",
    "object_color_var = ObjectColorVariation(\n",
    "    pr, \"obj_color_var_3\", targets_names, color_list=color_list\n",
    ")"
   ]
  },
  {
   "cell_type": "code",
   "execution_count": 47,
   "metadata": {},
   "outputs": [],
   "source": [
    "object_color_var.randomize()"
   ]
  },
  {
   "cell_type": "markdown",
   "metadata": {
    "tags": []
   },
   "source": [
    "### 2.4 Setup variation using a `color_range`\n",
    "![gif-color-variation-4][0]\n",
    "\n",
    "Lastly, if none of the other arguments is given, we can provide a `color_range`,\n",
    "which consists of a min. - max. range of RGB values to sample from. In the\n",
    "example below we select as min. a pure blue color, and as max. magenta, which\n",
    "results in sampling colors that are kind of blueish.\n",
    "\n",
    "[0]: <https://media.giphy.com/media/v1.Y2lkPTc5MGI3NjExNWRwam00cGR0bnQ1czEyYWJldmE0dG5pcGZyMHVzOWQ1OWQ2anZ1cyZlcD12MV9pbnRlcm5hbF9naWZfYnlfaWQmY3Q9Zw/hdRMYph7XapYEuyzhG/giphy.gif> (gif-color-variation-4)"
   ]
  },
  {
   "cell_type": "code",
   "execution_count": 48,
   "metadata": {},
   "outputs": [],
   "source": [
    "targets_names = [\"block1\", \"block2\", \"block3\"]\n",
    "color_low = np.array([0.0, 0.0, 1.0]) # blue\n",
    "color_high = np.array([0.8, 0.8, 1.8]) # blueish\n",
    "object_color_variation = ObjectColorVariation(\n",
    "    pr, \"obj_color_var_3\", targets_names, color_range=[color_low, color_high]\n",
    ")"
   ]
  },
  {
   "cell_type": "code",
   "execution_count": 59,
   "metadata": {},
   "outputs": [],
   "source": [
    "object_color_variation.randomize()"
   ]
  },
  {
   "cell_type": "markdown",
   "metadata": {},
   "source": [
    "### 2.5 Use the parameter `color_same`\n",
    "![img-color-same][0]\n",
    "\n",
    "This parameter allows to make all targets to receive the same random color\n",
    "\n",
    "[0]: <https://media.giphy.com/media/v1.Y2lkPTc5MGI3NjExZnJvZ2p1cXE1ZDlkc2V2dXU1OXV1bG50M2x5dmV6Nzd0YmM3NG1wZyZlcD12MV9pbnRlcm5hbF9naWZfYnlfaWQmY3Q9Zw/2KjbcZ6nNxuQJJn1sj/source.gif> (gif-color-same)"
   ]
  },
  {
   "cell_type": "code",
   "execution_count": 60,
   "metadata": {},
   "outputs": [],
   "source": [
    "targets_names = [\"block1\", \"block2\", \"block3\"]\n",
    "object_color_variation = ObjectColorVariation(\n",
    "    pr, \"obj_color_var_4\", targets_names, color_same=True\n",
    ")"
   ]
  },
  {
   "cell_type": "code",
   "execution_count": 110,
   "metadata": {},
   "outputs": [],
   "source": [
    "object_color_variation.randomize()"
   ]
  },
  {
   "cell_type": "code",
   "execution_count": 111,
   "metadata": {},
   "outputs": [
    {
     "name": "stdout",
     "output_type": "stream",
     "text": [
      "[CoppeliaSim:loadinfo]   done.\n"
     ]
    }
   ],
   "source": [
    "# Stop the simulation\n",
    "pr.stop()\n",
    "pr.shutdown()"
   ]
  }
 ],
 "metadata": {
  "kernelspec": {
   "display_name": "Python 3 (ipykernel)",
   "language": "python",
   "name": "python3"
  },
  "language_info": {
   "codemirror_mode": {
    "name": "ipython",
    "version": 3
   },
   "file_extension": ".py",
   "mimetype": "text/x-python",
   "name": "python",
   "nbconvert_exporter": "python",
   "pygments_lexer": "ipython3",
   "version": "3.11.7"
  }
 },
 "nbformat": 4,
 "nbformat_minor": 4
}
